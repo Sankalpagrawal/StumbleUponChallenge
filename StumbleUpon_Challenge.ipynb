{
  "nbformat": 4,
  "nbformat_minor": 0,
  "metadata": {
    "colab": {
      "name": "StumbleUpon Challenge.ipynb",
      "provenance": []
    },
    "kernelspec": {
      "name": "python3",
      "display_name": "Python 3"
    },
    "accelerator": "GPU"
  },
  "cells": [
    {
      "cell_type": "markdown",
      "metadata": {
        "id": "IMGKoMI7TOJJ"
      },
      "source": [
        "# **Importing depedencies**"
      ]
    },
    {
      "cell_type": "code",
      "metadata": {
        "id": "yzs-cyF1TKfn"
      },
      "source": [
        "import torch\r\n",
        "import torch.nn as nn\r\n",
        "import torch.nn.functional as F\r\n",
        "import os\r\n",
        "import numpy as np\r\n",
        "import csv\r\n",
        "import string\r\n",
        "import nltk\r\n",
        "from nltk.corpus import stopwords\r\n",
        "from nltk.tokenize import word_tokenize\r\n",
        "from nltk.tokenize import RegexpTokenizer\r\n",
        "from nltk.stem import WordNetLemmatizer\r\n",
        "from torch.autograd import Variable\r\n",
        "import torch.optim as optim\r\n",
        "import torchtext\r\n",
        "from torchtext import data\r\n",
        "from torchtext import vocab\r\n",
        "from sklearn.decomposition import PCA\r\n",
        "from sklearn import metrics\r\n",
        "import warnings \r\n",
        "warnings.filterwarnings(\"ignore\") # Removing warnings"
      ],
      "execution_count": 1,
      "outputs": []
    },
    {
      "cell_type": "markdown",
      "metadata": {
        "id": "iJCjKnBkTd-s"
      },
      "source": [
        "# **Mounting drive**"
      ]
    },
    {
      "cell_type": "code",
      "metadata": {
        "colab": {
          "base_uri": "https://localhost:8080/"
        },
        "id": "0Zz4RDz-Tc3E",
        "outputId": "90b4a1c7-bbee-4087-d800-4d9b3ef269fd"
      },
      "source": [
        "from google.colab import drive\r\n",
        "drive.mount('/content/gdrive')"
      ],
      "execution_count": 2,
      "outputs": [
        {
          "output_type": "stream",
          "text": [
            "Mounted at /content/gdrive\n"
          ],
          "name": "stdout"
        }
      ]
    },
    {
      "cell_type": "markdown",
      "metadata": {
        "id": "5WTR9dFS0PHo"
      },
      "source": [
        "# **Reading the Dataset**"
      ]
    },
    {
      "cell_type": "markdown",
      "metadata": {
        "id": "LCLmnp0-YxI8"
      },
      "source": [
        "*Initializing the variables and filenames*"
      ]
    },
    {
      "cell_type": "code",
      "metadata": {
        "id": "U1lYEgCyXB8z"
      },
      "source": [
        "filename_train = \"/content/gdrive/My Drive/Colab Notebooks/StumbleUpon Challenge/train.tsv\"\r\n",
        "filename_test = \"/content/gdrive/My Drive/Colab Notebooks/StumbleUpon Challenge/test.tsv\"\r\n",
        "\r\n",
        "# Storing boilerplate text and numerical features seperately\r\n",
        "# In numerical\r\n",
        "bp_text_train = []\r\n",
        "bp_text_test = []\r\n",
        "labels_train = []\r\n",
        "labels_test = []\r\n",
        "numerical_features_train = []\r\n",
        "numerical_features_test = []"
      ],
      "execution_count": 3,
      "outputs": []
    },
    {
      "cell_type": "markdown",
      "metadata": {
        "id": "egW3cqe7ZFad"
      },
      "source": [
        "*Parsing train.tsv*"
      ]
    },
    {
      "cell_type": "code",
      "metadata": {
        "colab": {
          "base_uri": "https://localhost:8080/"
        },
        "id": "FVK-WaX4XB2F",
        "outputId": "7117871e-f1b1-4226-b330-09b58f9617f1"
      },
      "source": [
        "# Collecting numerical features, labels and the boilerplate text seperately\r\n",
        "with open(filename_train) as tsvfile:\r\n",
        "    tsvreader = csv.reader(tsvfile, delimiter=\"\\t\")\r\n",
        "    column_names = tsvreader.__next__()\r\n",
        "    for row in tsvreader:\r\n",
        "        bp_text_train.append(row[2][10:]) # Remove the 'title' occuring in the beginning\r\n",
        "        labels_train.append(row[-1])\r\n",
        "        numerical_features_train.append(row[4:-1])\r\n",
        "print(\"train.tsv parsed\")"
      ],
      "execution_count": 4,
      "outputs": [
        {
          "output_type": "stream",
          "text": [
            "train.tsv parsed\n"
          ],
          "name": "stdout"
        }
      ]
    },
    {
      "cell_type": "markdown",
      "metadata": {
        "id": "arN_dT0NZHnc"
      },
      "source": [
        "*Parsing test.csv*"
      ]
    },
    {
      "cell_type": "code",
      "metadata": {
        "colab": {
          "base_uri": "https://localhost:8080/"
        },
        "id": "wY5AIHNRTdOS",
        "outputId": "be2c04c7-fb7b-4b56-830b-efd4e6b3b2aa"
      },
      "source": [
        "# Collecting numerical features, labels and the boilerplate text seperately\r\n",
        "with open(filename_test) as tsvfile:\r\n",
        "    tsvreader = csv.reader(tsvfile, delimiter=\"\\t\")\r\n",
        "    column_names = tsvreader.__next__()\r\n",
        "    for row in tsvreader:\r\n",
        "        bp_text_test.append(row[2][10:]) # Remove the 'title' occuring in the beginning\r\n",
        "        numerical_features_test.append(row[4:])\r\n",
        "print(\"test.tsv parsed\")"
      ],
      "execution_count": 5,
      "outputs": [
        {
          "output_type": "stream",
          "text": [
            "test.tsv parsed\n"
          ],
          "name": "stdout"
        }
      ]
    },
    {
      "cell_type": "markdown",
      "metadata": {
        "id": "ei1LJupnZ-Z2"
      },
      "source": [
        "# **Performing train-validation split**"
      ]
    },
    {
      "cell_type": "markdown",
      "metadata": {
        "id": "65bzSHd8bSs9"
      },
      "source": [
        "*Performing 80:20 split in Train set*"
      ]
    },
    {
      "cell_type": "code",
      "metadata": {
        "id": "kjtRzr_KvpJL",
        "colab": {
          "base_uri": "https://localhost:8080/"
        },
        "outputId": "eec9896a-7ef1-4ba4-8c78-bf6180c1529e"
      },
      "source": [
        "train_data=[]\r\n",
        "train_labels=[]\r\n",
        "val_data=[]\r\n",
        "val_labels=[]\r\n",
        "test_data = []\r\n",
        "\r\n",
        "# Performing 80:20 split\r\n",
        "split_factor = 0.8\r\n",
        "split_index = int(0.8*len(bp_text_train))\r\n",
        "\r\n",
        "for i in range(len(bp_text_train)):\r\n",
        "    if i < split_index:\r\n",
        "        features = [bp_text_train[i], numerical_features_train[i], labels_train[i]]\r\n",
        "        train_data.append(features)\r\n",
        "    else:\r\n",
        "        features = [bp_text_train[i], numerical_features_train[i], labels_train[i]]\r\n",
        "        val_data.append(features)\r\n",
        "\r\n",
        "print(\"Size of train dataset: \",len(train_data))\r\n",
        "print(\"Size of validation dataset: \",len(val_data))\r\n",
        "\r\n",
        "for i in range(len(bp_text_test)):\r\n",
        "    features = [bp_text_test[i], numerical_features_test[i]]\r\n",
        "    test_data.append(features)"
      ],
      "execution_count": 6,
      "outputs": [
        {
          "output_type": "stream",
          "text": [
            "Size of train dataset:  5916\n",
            "Size of validation dataset:  1479\n"
          ],
          "name": "stdout"
        }
      ]
    },
    {
      "cell_type": "markdown",
      "metadata": {
        "id": "Uca-aUnKbWa1"
      },
      "source": [
        "*Writing train,val,test split data to temporary .csv files*"
      ]
    },
    {
      "cell_type": "code",
      "metadata": {
        "id": "6f4Vq4GTbIut"
      },
      "source": [
        "trainset_file=\"/content/gdrive/My Drive/Colab Notebooks/StumbleUpon Challenge/trainset.csv\"\r\n",
        "valset_file=\"/content/gdrive/My Drive/Colab Notebooks/StumbleUpon Challenge/valset.csv\"\r\n",
        "testset_file=\"/content/gdrive/My Drive/Colab Notebooks/StumbleUpon Challenge/testset.csv\"\r\n",
        "\r\n",
        "with open(trainset_file,\"w\") as train_csv:\r\n",
        "    csvwriter=csv.writer(train_csv)\r\n",
        "    csvwriter.writerow(['text','numerical','label'])\r\n",
        "    csvwriter.writerows(train_data)\r\n",
        "\r\n",
        "with open(valset_file,\"w\") as val_csv:\r\n",
        "    csvwriter=csv.writer(val_csv)\r\n",
        "    csvwriter.writerow(['text','numerical','label'])\r\n",
        "    csvwriter.writerows(val_data)\r\n",
        "\r\n",
        "with open(testset_file,\"w\") as test_csv:\r\n",
        "    csvwriter=csv.writer(test_csv)\r\n",
        "    csvwriter.writerow(['text','numerical'])\r\n",
        "    csvwriter.writerows(test_data)"
      ],
      "execution_count": 7,
      "outputs": []
    },
    {
      "cell_type": "markdown",
      "metadata": {
        "id": "iEr3HlFbgq8O"
      },
      "source": [
        "# **Data Preprocessing**"
      ]
    },
    {
      "cell_type": "markdown",
      "metadata": {
        "id": "_6AHimVzg_Ed"
      },
      "source": [
        "*Defining functions for preprocessing and postprocessing input data*"
      ]
    },
    {
      "cell_type": "code",
      "metadata": {
        "colab": {
          "base_uri": "https://localhost:8080/"
        },
        "id": "BWz6UehBhUbR",
        "outputId": "a894a707-f11a-4a61-e190-5e757ad5c66f"
      },
      "source": [
        "nltk.download('stopwords')\r\n",
        "nltk.download('punkt')\r\n",
        "nltk.download('wordnet')\r\n",
        "\r\n",
        "# Converting string list of numerical features to a numerical float list (part of preprocessing numerical features)\r\n",
        "def preprocessing_numerical_features(s):\r\n",
        "    feature_list = []\r\n",
        "    l = s.split(\"'\")\r\n",
        "    for term in l:\r\n",
        "        if term=='?': # NaN values will be converted to 0\r\n",
        "            feature_list.append(0)\r\n",
        "        try:\r\n",
        "            feature_list.append(float(term))\r\n",
        "        except:\r\n",
        "            continue\r\n",
        "    return feature_list\r\n",
        "\r\n",
        "# Fuction for preprocessing on boilerplate text\r\n",
        "def my_tokenizer(s):\r\n",
        "    # Stop Word Removal\r\n",
        "    stop_words=set(stopwords.words('english'))\r\n",
        "    # Tokenizer\r\n",
        "    tokenizer=RegexpTokenizer(r'\\w+')\r\n",
        "    # Lemmatizer\r\n",
        "    lem=WordNetLemmatizer()\r\n",
        "    word_tokens=tokenizer.tokenize(s)\r\n",
        "    \r\n",
        "    preprocessed_content=[]\r\n",
        "    for g in word_tokens:\r\n",
        "        if g not in stop_words:\r\n",
        "            preprocessed_content.append(lem.lemmatize(g.lower()))\r\n",
        "    return preprocessed_content\r\n",
        "\r\n",
        "# Postprocessing encoded feature vector obtained by Glove embeddings\r\n",
        "# Reducing dimensionality through PCA, with reduced number of features=5.  \r\n",
        "def postprocessing_text_features(text_enc,vocab):\r\n",
        "    # Dimensionality reduction, number of components should lie between [0,min(n_samples,n_features)]\r\n",
        "    if len(text_enc)<5 or len(text_enc[0])<5:\r\n",
        "        n = min(len(text_enc),len(text_enc[0]))\r\n",
        "        text_enc = np.array(text_enc)\r\n",
        "        pca = PCA(n_components=n)\r\n",
        "        pca.fit(text_enc)\r\n",
        "        transformed_vector = pca.transform(text_enc)\r\n",
        "        return transformed_vector\r\n",
        "    else:\r\n",
        "        text_enc = np.array(text_enc)\r\n",
        "        pca = PCA(n_components=5)\r\n",
        "        pca.fit(text_enc)\r\n",
        "        transformed_vector = pca.transform(text_enc)\r\n",
        "        return transformed_vector"
      ],
      "execution_count": 8,
      "outputs": [
        {
          "output_type": "stream",
          "text": [
            "[nltk_data] Downloading package stopwords to /root/nltk_data...\n",
            "[nltk_data]   Unzipping corpora/stopwords.zip.\n",
            "[nltk_data] Downloading package punkt to /root/nltk_data...\n",
            "[nltk_data]   Unzipping tokenizers/punkt.zip.\n",
            "[nltk_data] Downloading package wordnet to /root/nltk_data...\n",
            "[nltk_data]   Unzipping corpora/wordnet.zip.\n"
          ],
          "name": "stdout"
        }
      ]
    },
    {
      "cell_type": "markdown",
      "metadata": {
        "id": "GJ6Jfy5wmpCm"
      },
      "source": [
        "*Defining different fields for labels,text,numerical data ; making tabular dataset*"
      ]
    },
    {
      "cell_type": "code",
      "metadata": {
        "id": "AxEWR-SK3nRX"
      },
      "source": [
        "# Include preprocessing and postprocessing functions as field parameters\r\n",
        "content_field = data.Field(sequential=True,tokenize=my_tokenizer,include_lengths=False,use_vocab=True,postprocessing=postprocessing_text_features)\r\n",
        "numerical_field = data.Field(sequential=False,use_vocab=False,pad_token=None,unk_token='?',preprocessing=preprocessing_numerical_features)\r\n",
        "label_field = data.LabelField(sequential=False,use_vocab=False,pad_token=None,preprocessing=lambda x:int(x))\r\n",
        "\r\n",
        "train_val_fields = [('text',content_field),('numerical',numerical_field),('label',label_field)]\r\n",
        "\r\n",
        "# Using temporary csv file made earlier, make the TabularDatasets\r\n",
        "train_set,val_set = data.TabularDataset.splits(path=\"/content/gdrive/My Drive/Colab Notebooks/StumbleUpon Challenge\",\r\n",
        "                                        format=\"csv\",\r\n",
        "                                        train=\"trainset.csv\",\r\n",
        "                                        validation=\"valset.csv\",\r\n",
        "                                        fields=train_val_fields,\r\n",
        "                                        skip_header=True)\r\n",
        "\r\n",
        "test_set = data.TabularDataset(path=\"/content/gdrive/My Drive/Colab Notebooks/StumbleUpon Challenge/testset.csv\",\r\n",
        "                               format='csv',\r\n",
        "                               fields= [(('text','numerical'),(content_field,numerical_field))],\r\n",
        "                               skip_header=True)"
      ],
      "execution_count": null,
      "outputs": []
    },
    {
      "cell_type": "markdown",
      "metadata": {
        "id": "UNSGqJijnd2F"
      },
      "source": [
        "*Using pretrained Word Embeddings (Glove) to build vocabulary*"
      ]
    },
    {
      "cell_type": "code",
      "metadata": {
        "id": "CQzksJhV6WqO"
      },
      "source": [
        "vec = vocab.Vectors('glove.6B.100d.txt','/content/gdrive/My Drive/Colab Notebooks/StumbleUpon Challenge/Glove files/')\r\n",
        "content_field.build_vocab(train_set,max_size=1000, vectors=vec)\r\n",
        "numerical_field.build_vocab(train_set)\r\n",
        "label_field.build_vocab(train_set)"
      ],
      "execution_count": 10,
      "outputs": []
    },
    {
      "cell_type": "markdown",
      "metadata": {
        "id": "e-Hxe1o8nn8i"
      },
      "source": [
        "*Initializing iterators with batch_size=5*"
      ]
    },
    {
      "cell_type": "code",
      "metadata": {
        "id": "VBWvhsCQ6ZCa"
      },
      "source": [
        "BATCH_SIZE = 5\r\n",
        "device = torch.device('cuda' if torch.cuda.is_available() else 'cpu')\r\n",
        "\r\n",
        "# Three categories of data- \r\n",
        "# text feature of size 5x5\r\n",
        "# numerical feature of size 5x22\r\n",
        "# label tensor of size 5\r\n",
        "train_iter,valid_iter,test_iter = data.BucketIterator.splits(datasets=(train_set,val_set,test_set),\r\n",
        "                                                 batch_sizes=(BATCH_SIZE,BATCH_SIZE,BATCH_SIZE),\r\n",
        "                                                 sort_key=lambda x: len(x.text),\r\n",
        "                                                 device=device)"
      ],
      "execution_count": 11,
      "outputs": []
    },
    {
      "cell_type": "markdown",
      "metadata": {
        "id": "HG1MFkC9mtm8"
      },
      "source": [
        "# **Building the model**"
      ]
    },
    {
      "cell_type": "markdown",
      "metadata": {
        "id": "shsIFZVJoits"
      },
      "source": [
        "*Simple RNN architecture to classify the labels*"
      ]
    },
    {
      "cell_type": "code",
      "metadata": {
        "id": "fDbqVWKVVopR"
      },
      "source": [
        "class RNN_model(nn.Module):\r\n",
        "    def __init__(self, input_size, embedding_size, hidden_size, output_size):\r\n",
        "        super().__init__()\r\n",
        "        self.embedding = nn.Embedding(input_size,embedding_size)\r\n",
        "        self.rnn = nn.RNN(embedding_size,hidden_size)\r\n",
        "        self.dropout = nn.Dropout(0.4)\r\n",
        "        self.fc = nn.Linear(hidden_size,output_size)\r\n",
        "    \r\n",
        "    def forward(self,x):\r\n",
        "        embedded = self.dropout(self.embedding(x))\r\n",
        "        output, hidden = self.rnn(embedded)\r\n",
        "        output = output.to(device)\r\n",
        "        hidden = hidden.to(device)\r\n",
        "        hidden = hidden.squeeze(0)\r\n",
        "        out = self.fc(hidden)\r\n",
        "        return out"
      ],
      "execution_count": 12,
      "outputs": []
    },
    {
      "cell_type": "markdown",
      "metadata": {
        "id": "HkKoiKC8oc3P"
      },
      "source": [
        "*Specifying model hyperparameters*"
      ]
    },
    {
      "cell_type": "code",
      "metadata": {
        "id": "93xMyaUVXH-6"
      },
      "source": [
        "INPUT_DIM = len(content_field.vocab)\r\n",
        "EMBEDDING_DIM = 100\r\n",
        "HIDDEN_DIM = 64\r\n",
        "OUTPUT_DIM = 2\r\n",
        "\r\n",
        "model = RNN_model(INPUT_DIM, EMBEDDING_DIM, HIDDEN_DIM, OUTPUT_DIM)\r\n",
        "\r\n",
        "pretrained_embeddings = content_field.vocab.vectors\r\n",
        "model.embedding.weight.data = pretrained_embeddings.to(device)\r\n",
        "\r\n",
        "optimizer=optim.Adam(model.parameters(), lr=1e-5) \r\n",
        "criterion=nn.CrossEntropyLoss()\r\n",
        "model=model.to(device)\r\n",
        "criterion=criterion.to(device)"
      ],
      "execution_count": 13,
      "outputs": []
    },
    {
      "cell_type": "markdown",
      "metadata": {
        "id": "WFwKv5-uood0"
      },
      "source": [
        "# **Model training**"
      ]
    },
    {
      "cell_type": "markdown",
      "metadata": {
        "id": "us5SHr-ipAxV"
      },
      "source": [
        "*Defining function for training and evaluation*"
      ]
    },
    {
      "cell_type": "code",
      "metadata": {
        "id": "YT2gIcKsXnEG"
      },
      "source": [
        "# Function for accuracy calculation\r\n",
        "def binary_accuracy(predicted, y):\r\n",
        "    predicted,ind = torch.max(F.softmax(predicted, dim=-1),1)\r\n",
        "    correct = (ind==y).float()\r\n",
        "    accuracy = correct.sum()/float(len(correct))\r\n",
        "    return accuracy * 100\r\n",
        "\r\n",
        "def train(model,iterator,optimizer,criterion):\r\n",
        "    epoch_loss=0\r\n",
        "    epoch_accuracy=0\r\n",
        "    batch_num=0\r\n",
        "\r\n",
        "    # Storing labels for auc calculation\r\n",
        "    actual_labels = []\r\n",
        "    predicted_labels  = []\r\n",
        "\r\n",
        "    model.train()\r\n",
        "    for batch in iterator:\r\n",
        "        optimizer.zero_grad()\r\n",
        "        input_tensor = torch.cat((batch.text,torch.transpose(batch.numerical,0,1)),dim=0) # Concatenating text and numerical features\r\n",
        "        input_tensor = F.normalize(input_tensor.double(), p=2, dim=1)\r\n",
        "        input_tensor = torch.add(input_tensor*25,25) # normalizing value from 0 to 50\r\n",
        "        predictions = model(input_tensor.long()).squeeze(0)\r\n",
        "        try:\r\n",
        "            loss = criterion(predictions,batch.label)\r\n",
        "            accuracy = binary_accuracy(predictions,batch.label)\r\n",
        "        except IndexError: # for handling last batch\r\n",
        "            loss = criterion(predictions.reshape((1,2)),batch.label)\r\n",
        "            accuracy = binary_accuracy(predictions.reshape((1,2)),batch.label)\r\n",
        "\r\n",
        "        actual_labels.append(batch.label)\r\n",
        "        predicted_labels.append(predictions)\r\n",
        "\r\n",
        "        loss.backward()\r\n",
        "        optimizer.step()\r\n",
        "\r\n",
        "        epoch_loss+=loss.item()\r\n",
        "        epoch_accuracy+=accuracy.item()\r\n",
        "\r\n",
        "        batch_num+=1\r\n",
        "\r\n",
        "    v1 = epoch_loss/len(iterator)\r\n",
        "    v2 = epoch_accuracy/len(iterator)\r\n",
        "    return v1,v2,actual_labels,predicted_labels\r\n",
        "\r\n",
        "def evaluate(model,iterator,criterion):\r\n",
        "    epoch_loss=0\r\n",
        "    epoch_accuracy=0\r\n",
        "\r\n",
        "    model.eval()\r\n",
        "\r\n",
        "    actual_labels = []\r\n",
        "    predicted_labels  = []\r\n",
        "\r\n",
        "    with torch.no_grad():\r\n",
        "        for batch in iterator:\r\n",
        "            input_tensor = torch.cat((batch.text,torch.transpose(batch.numerical,0,1)),dim=0) # Concatenating text and numerical features\r\n",
        "            input_tensor = F.normalize(input_tensor.double(), p=2, dim=1)\r\n",
        "            input_tensor = torch.add(input_tensor*25,25) # normalizing value from 0 to 50\r\n",
        "            predictions = model(input_tensor.long()).squeeze(0)\r\n",
        "\r\n",
        "            try:\r\n",
        "                loss = criterion(predictions,batch.label)\r\n",
        "                accuracy = binary_accuracy(predictions,batch.label)\r\n",
        "            except IndexError: # for handling last batch\r\n",
        "                loss = criterion(predictions.reshape((predictions.shape[0],2)),batch.label)\r\n",
        "                accuracy = binary_accuracy(predictions.reshape((predictions.shape[0],2)),batch.label)\r\n",
        "\r\n",
        "            actual_labels.append(batch.label)\r\n",
        "            predicted_labels.append(predictions)\r\n",
        "\r\n",
        "            epoch_loss+=loss.item()\r\n",
        "            epoch_accuracy+=accuracy.item()\r\n",
        "\r\n",
        "    v1 = epoch_loss/len(iterator)\r\n",
        "    v2 = epoch_accuracy/len(iterator)\r\n",
        "    return v1,v2,actual_labels,predicted_labels"
      ],
      "execution_count": 14,
      "outputs": []
    },
    {
      "cell_type": "markdown",
      "metadata": {
        "id": "ykoaAhTspl6K"
      },
      "source": [
        "*Running N=50 epochs*"
      ]
    },
    {
      "cell_type": "code",
      "metadata": {
        "colab": {
          "base_uri": "https://localhost:8080/"
        },
        "id": "xn-aGjcaYa_t",
        "outputId": "39e7a929-af90-426f-a843-4bff4bae779d"
      },
      "source": [
        "N_EPOCHS = 50\r\n",
        "\r\n",
        "# Initializng arrays used for storing loss and accuracy values, used later for making graph\r\n",
        "train_accuracy_arr=[]\r\n",
        "val_accuracy_arr=[]\r\n",
        "train_loss_arr=[]\r\n",
        "val_loss_arr=[]\r\n",
        "epoch_arr=[]\r\n",
        "\r\n",
        "for epoch in range(N_EPOCHS):\r\n",
        "    train_loss,train_accuracy,actual_labels_train,predicted_labels_train = train(model,train_iter,optimizer,criterion)\r\n",
        "    valid_loss,valid_accuracy,actual_labels_val,predicted_labels_val = evaluate(model,valid_iter,criterion)\r\n",
        "\r\n",
        "    epoch_arr.append(epoch+1)\r\n",
        "    train_accuracy_arr.append(train_accuracy*100)\r\n",
        "    val_accuracy_arr.append(valid_accuracy*100)\r\n",
        "    train_loss_arr.append(train_loss)\r\n",
        "    val_loss_arr.append(valid_loss)\r\n",
        "\r\n",
        "    print(\"EPOCH: \"+str(epoch+1)+\" | \"+\"Train_Loss: \"+str(train_loss)+\" | \"+\"Train_Accuracy: \"+str(train_accuracy)+\" | \"+\"Validation_Loss: \"+str(valid_loss)+\" | \"+\"Validation_Accuracy: \"+str(valid_accuracy))"
      ],
      "execution_count": 15,
      "outputs": [
        {
          "output_type": "stream",
          "text": [
            "EPOCH: 1 | Train_Loss: 0.6991893683333654 | Train_Accuracy: 50.57432560018591 | Validation_Loss: 0.6919047431768598 | Validation_Accuracy: 52.61824454487981\n",
            "EPOCH: 2 | Train_Loss: 0.7001331511482194 | Train_Accuracy: 49.86486598285469 | Validation_Loss: 0.6915682894555298 | Validation_Accuracy: 52.212839023486985\n",
            "EPOCH: 3 | Train_Loss: 0.6982288347003428 | Train_Accuracy: 50.422298479724574 | Validation_Loss: 0.6913157371250359 | Validation_Accuracy: 52.61824439022992\n",
            "EPOCH: 4 | Train_Loss: 0.6966117128629137 | Train_Accuracy: 51.250001211424134 | Validation_Loss: 0.6910454872492198 | Validation_Accuracy: 53.429055278365674\n",
            "EPOCH: 5 | Train_Loss: 0.6963294846685352 | Train_Accuracy: 51.14864987618214 | Validation_Loss: 0.6909711159564353 | Validation_Accuracy: 51.60473081227895\n",
            "EPOCH: 6 | Train_Loss: 0.6984513323452022 | Train_Accuracy: 49.89864976663847 | Validation_Loss: 0.6905427091830486 | Validation_Accuracy: 53.49662278149579\n",
            "EPOCH: 7 | Train_Loss: 0.696809633106396 | Train_Accuracy: 50.32094722502941 | Validation_Loss: 0.6902673610964337 | Validation_Accuracy: 53.9020283286636\n",
            "EPOCH: 8 | Train_Loss: 0.6936296462710645 | Train_Accuracy: 51.73986612139522 | Validation_Loss: 0.6899968111837232 | Validation_Accuracy: 54.915541739077185\n",
            "EPOCH: 9 | Train_Loss: 0.6938035638650527 | Train_Accuracy: 51.081082279617725 | Validation_Loss: 0.6897779282283139 | Validation_Accuracy: 54.30743361808158\n",
            "EPOCH: 10 | Train_Loss: 0.694912552229456 | Train_Accuracy: 50.92905527192193 | Validation_Loss: 0.6896021728580063 | Validation_Accuracy: 55.18581206089741\n",
            "EPOCH: 11 | Train_Loss: 0.693332201876753 | Train_Accuracy: 51.92567695475913 | Validation_Loss: 0.6893758141511196 | Validation_Accuracy: 54.51013628212181\n",
            "EPOCH: 12 | Train_Loss: 0.6942000773206756 | Train_Accuracy: 51.62162286526448 | Validation_Loss: 0.6895036743702115 | Validation_Accuracy: 56.45270417187665\n",
            "EPOCH: 13 | Train_Loss: 0.6941853196838418 | Train_Accuracy: 51.18243368251903 | Validation_Loss: 0.6889369177657205 | Validation_Accuracy: 56.8074335923066\n",
            "EPOCH: 14 | Train_Loss: 0.6943798802188925 | Train_Accuracy: 51.57094710259824 | Validation_Loss: 0.6887430725870906 | Validation_Accuracy: 57.19594717025757\n",
            "EPOCH: 15 | Train_Loss: 0.69270424766315 | Train_Accuracy: 51.01351474749075 | Validation_Loss: 0.6885256078597661 | Validation_Accuracy: 54.172298482946445\n",
            "EPOCH: 16 | Train_Loss: 0.6916381937728541 | Train_Accuracy: 52.043920136786795 | Validation_Loss: 0.688270665503837 | Validation_Accuracy: 56.92567696442475\n",
            "EPOCH: 17 | Train_Loss: 0.6913616307381842 | Train_Accuracy: 53.09121739542162 | Validation_Loss: 0.6879019316386532 | Validation_Accuracy: 56.65540659105456\n",
            "EPOCH: 18 | Train_Loss: 0.6917609567376407 | Train_Accuracy: 52.922298576380754 | Validation_Loss: 0.6875277777781358 | Validation_Accuracy: 57.128379680014945\n",
            "EPOCH: 19 | Train_Loss: 0.6925895011203514 | Train_Accuracy: 51.503379586580635 | Validation_Loss: 0.6872925462352263 | Validation_Accuracy: 54.98310926798228\n",
            "EPOCH: 20 | Train_Loss: 0.6929031234939356 | Train_Accuracy: 51.28378495332357 | Validation_Loss: 0.6869805326332917 | Validation_Accuracy: 57.53378503387039\n",
            "EPOCH: 21 | Train_Loss: 0.6926915583679 | Train_Accuracy: 51.92567696120288 | Validation_Loss: 0.686757742754511 | Validation_Accuracy: 57.06081212533487\n",
            "EPOCH: 22 | Train_Loss: 0.6908305207821163 | Train_Accuracy: 52.80405519781886 | Validation_Loss: 0.6864169934714163 | Validation_Accuracy: 56.99324449332985\n",
            "EPOCH: 23 | Train_Loss: 0.6903971896280308 | Train_Accuracy: 52.85473097015072 | Validation_Loss: 0.6860767228377832 | Validation_Accuracy: 56.65540661682954\n",
            "EPOCH: 24 | Train_Loss: 0.6910524347142594 | Train_Accuracy: 52.753379712233674 | Validation_Loss: 0.6856650778570691 | Validation_Accuracy: 56.925676848437334\n",
            "EPOCH: 25 | Train_Loss: 0.690652415257048 | Train_Accuracy: 53.41216335425506 | Validation_Loss: 0.685725762433297 | Validation_Accuracy: 56.92567696442475\n",
            "EPOCH: 26 | Train_Loss: 0.6902668741405815 | Train_Accuracy: 52.8716228749301 | Validation_Loss: 0.6851738997407861 | Validation_Accuracy: 56.72297411995965\n",
            "EPOCH: 27 | Train_Loss: 0.690687432683803 | Train_Accuracy: 52.88851475071262 | Validation_Loss: 0.6846836632167971 | Validation_Accuracy: 56.452703875464366\n",
            "EPOCH: 28 | Train_Loss: 0.689057831526608 | Train_Accuracy: 53.63175806805894 | Validation_Loss: 0.6847134319108885 | Validation_Accuracy: 57.19594736356993\n",
            "EPOCH: 29 | Train_Loss: 0.6896154376099238 | Train_Accuracy: 53.36148766247002 | Validation_Loss: 0.683847011947954 | Validation_Accuracy: 57.06081206089741\n",
            "EPOCH: 30 | Train_Loss: 0.6891725944304788 | Train_Accuracy: 53.378379715455544 | Validation_Loss: 0.6838965188409831 | Validation_Accuracy: 57.19594731201997\n",
            "EPOCH: 31 | Train_Loss: 0.6890839198855935 | Train_Accuracy: 54.037163418692515 | Validation_Loss: 0.6831561848521233 | Validation_Accuracy: 56.65540670704197\n",
            "EPOCH: 32 | Train_Loss: 0.6874869840874059 | Train_Accuracy: 54.62837968645869 | Validation_Loss: 0.6829157030662975 | Validation_Accuracy: 56.18243375984398\n",
            "EPOCH: 33 | Train_Loss: 0.687152772084684 | Train_Accuracy: 54.543920181893014 | Validation_Loss: 0.6826882261682201 | Validation_Accuracy: 56.38513639810923\n",
            "EPOCH: 34 | Train_Loss: 0.6864904900257652 | Train_Accuracy: 54.64527152357875 | Validation_Loss: 0.6821085250860935 | Validation_Accuracy: 57.06081204800992\n",
            "EPOCH: 35 | Train_Loss: 0.686008494750068 | Train_Accuracy: 54.84797429716265 | Validation_Loss: 0.6816467201790294 | Validation_Accuracy: 56.99324446755487\n",
            "EPOCH: 36 | Train_Loss: 0.6852241931734858 | Train_Accuracy: 56.19932555507969 | Validation_Loss: 0.6814255239190282 | Validation_Accuracy: 56.58783908792444\n",
            "EPOCH: 37 | Train_Loss: 0.6867922520315325 | Train_Accuracy: 54.84797416828774 | Validation_Loss: 0.6813293288688402 | Validation_Accuracy: 56.72297423594707\n",
            "EPOCH: 38 | Train_Loss: 0.6845563620429587 | Train_Accuracy: 55.35473097015072 | Validation_Loss: 0.681091746969803 | Validation_Accuracy: 56.72297419728459\n",
            "EPOCH: 39 | Train_Loss: 0.685005198560051 | Train_Accuracy: 54.44256892397597 | Validation_Loss: 0.6809409214435397 | Validation_Accuracy: 56.3175687789917\n",
            "EPOCH: 40 | Train_Loss: 0.68569983013377 | Train_Accuracy: 55.32094720892004 | Validation_Loss: 0.6812818308134336 | Validation_Accuracy: 56.04729853449641\n",
            "EPOCH: 41 | Train_Loss: 0.6866656975266902 | Train_Accuracy: 54.81419048760388 | Validation_Loss: 0.6810445477430885 | Validation_Accuracy: 56.31756874032923\n",
            "EPOCH: 42 | Train_Loss: 0.6869510565758556 | Train_Accuracy: 54.375001295192824 | Validation_Loss: 0.6810111540394861 | Validation_Accuracy: 56.92567691287479\n",
            "EPOCH: 43 | Train_Loss: 0.6861114072537905 | Train_Accuracy: 54.20608237305203 | Validation_Loss: 0.6811595204714183 | Validation_Accuracy: 56.65540669415448\n",
            "EPOCH: 44 | Train_Loss: 0.683786749990808 | Train_Accuracy: 55.844595854346814 | Validation_Loss: 0.6811824662459863 | Validation_Accuracy: 56.250001224311625\n",
            "EPOCH: 45 | Train_Loss: 0.6827402474560045 | Train_Accuracy: 56.46959602510607 | Validation_Loss: 0.681957992146144 | Validation_Accuracy: 55.77702829000112\n",
            "EPOCH: 46 | Train_Loss: 0.6840826304679787 | Train_Accuracy: 55.77702837699169 | Validation_Loss: 0.6810225357074995 | Validation_Accuracy: 56.587839126586914\n",
            "EPOCH: 47 | Train_Loss: 0.6841074804951613 | Train_Accuracy: 55.962838959049535 | Validation_Loss: 0.6811821621817511 | Validation_Accuracy: 56.31756884342915\n",
            "EPOCH: 48 | Train_Loss: 0.6834683212376124 | Train_Accuracy: 56.03040666515763 | Validation_Loss: 0.6810925554584812 | Validation_Accuracy: 56.52027158479433\n",
            "EPOCH: 49 | Train_Loss: 0.6842239664716495 | Train_Accuracy: 56.19932558729842 | Validation_Loss: 0.6809757339793283 | Validation_Accuracy: 56.72297427460954\n",
            "EPOCH: 50 | Train_Loss: 0.6826704744551633 | Train_Accuracy: 56.4527040011174 | Validation_Loss: 0.6811417663419569 | Validation_Accuracy: 56.38513644965919\n"
          ],
          "name": "stdout"
        }
      ]
    },
    {
      "cell_type": "markdown",
      "metadata": {
        "id": "eN13TxMdp3d-"
      },
      "source": [
        "*Showing training,evaluation loss and accuracy curves*"
      ]
    },
    {
      "cell_type": "code",
      "metadata": {
        "colab": {
          "base_uri": "https://localhost:8080/",
          "height": 1000
        },
        "id": "0UGU4wxKYmZ_",
        "outputId": "2c7305ce-f35d-47b6-9275-d1b2e389ebcc"
      },
      "source": [
        "import matplotlib.pyplot as plt\r\n",
        "\r\n",
        "plt.xlabel(\"Epoch\")\r\n",
        "plt.ylabel(\"Training Accuracy\")\r\n",
        "plt.title(\"TRAIN ACCURACY VS EPOCH\")\r\n",
        "plt.plot(epoch_arr,train_accuracy_arr)\r\n",
        "plt.show()\r\n",
        "\r\n",
        "plt.xlabel(\"Epoch\")\r\n",
        "plt.ylabel(\"Validation Accuracy\")\r\n",
        "plt.title(\"VALIDATION ACCURACY VS EPOCH\")\r\n",
        "plt.plot(epoch_arr,val_accuracy_arr)\r\n",
        "plt.show()\r\n",
        "\r\n",
        "plt.xlabel(\"Epoch\")\r\n",
        "plt.ylabel(\"Training Loss\")\r\n",
        "plt.title(\"TRAINING LOSS VS EPOCH\")\r\n",
        "plt.plot(epoch_arr,train_loss_arr)\r\n",
        "plt.show()\r\n",
        "\r\n",
        "plt.xlabel(\"Epoch\")\r\n",
        "plt.ylabel(\"Validation Loss\")\r\n",
        "plt.title(\"VALIDATION LOSS VS EPOCH\")\r\n",
        "plt.plot(epoch_arr,val_loss_arr)\r\n",
        "plt.show()"
      ],
      "execution_count": 16,
      "outputs": [
        {
          "output_type": "display_data",
          "data": {
            "image/png": "[encoded data removed]",
            "text/plain": [
              "<Figure size 432x288 with 1 Axes>"
            ]
          },
          "metadata": {
            "tags": [],
            "needs_background": "light"
          }
        },
        {
          "output_type": "display_data",
          "data": {
            "image/png": "[encoded data removed]",
            "text/plain": [
              "<Figure size 432x288 with 1 Axes>"
            ]
          },
          "metadata": {
            "tags": [],
            "needs_background": "light"
          }
        },
        {
          "output_type": "display_data",
          "data": {
            "image/png": "[encoded data removed]",
            "text/plain": [
              "<Figure size 432x288 with 1 Axes>"
            ]
          },
          "metadata": {
            "tags": [],
            "needs_background": "light"
          }
        },
        {
          "output_type": "display_data",
          "data": {
            "image/png": "[encoded data removed]",
            "text/plain": [
              "<Figure size 432x288 with 1 Axes>"
            ]
          },
          "metadata": {
            "tags": [],
            "needs_background": "light"
          }
        }
      ]
    },
    {
      "cell_type": "markdown",
      "metadata": {
        "id": "9R3vdRMMqACc"
      },
      "source": [
        "# **Model evaluation**"
      ]
    },
    {
      "cell_type": "markdown",
      "metadata": {
        "id": "e00Uxz3lqNFb"
      },
      "source": [
        "*ROC-AUC score and Classification report calculation*"
      ]
    },
    {
      "cell_type": "code",
      "metadata": {
        "colab": {
          "base_uri": "https://localhost:8080/"
        },
        "id": "NdsnGT_mKaxw",
        "outputId": "67d07eb7-45dc-4262-b5c5-9988becf2b78"
      },
      "source": [
        "# Concatenating true,predicted labels for both train and validation sets\r\n",
        "def get_ytrue_ypred(actual_labels,predicted_labels):\r\n",
        "    y_true=[]\r\n",
        "    y_pred=[]\r\n",
        "    for i in range(len(actual_labels)):\r\n",
        "        try:\r\n",
        "            predicted,pred_ind = torch.max(F.softmax(predicted_labels[i], dim=-1),1)\r\n",
        "            for j in range(BATCH_SIZE):\r\n",
        "                y_true.append(actual_labels[i][j])\r\n",
        "                y_pred.append(pred_ind[j])\r\n",
        "        except: # Handling last batch\r\n",
        "            if predicted_labels[i].dim()==1: \r\n",
        "                predicted,pred_ind = torch.max(F.softmax(predicted_labels[i].reshape((1,2)), dim=-1),1)\r\n",
        "                for j in range(1):\r\n",
        "                    y_true.append(actual_labels[i][j])\r\n",
        "                    y_pred.append(pred_ind[j])\r\n",
        "            else:\r\n",
        "                predicted,pred_ind = torch.max(F.softmax(predicted_labels[i].reshape((predicted_labels[i].shape[0],2)), dim=-1),1)\r\n",
        "                for j in range(predicted_labels[i].shape[0]):\r\n",
        "                    y_true.append(actual_labels[i][j])\r\n",
        "                    y_pred.append(pred_ind[j])\r\n",
        "    \r\n",
        "    return y_true,y_pred\r\n",
        "\r\n",
        "y_true,y_pred = get_ytrue_ypred(actual_labels_train,predicted_labels_train)\r\n",
        "y_true_val,y_pred_val = get_ytrue_ypred(actual_labels_val,predicted_labels_val)\r\n",
        "\r\n",
        "y_true.extend(y_true_val)\r\n",
        "y_pred.extend(y_pred_val)\r\n",
        "\r\n",
        "y_true = list(map(int,y_true))\r\n",
        "y_pred = list(map(int,y_pred))\r\n",
        "\r\n",
        "fpr, tpr, thresholds = metrics.roc_curve(y_true,y_pred)\r\n",
        "auc = metrics.auc(fpr,tpr)\r\n",
        "print(\"ROC-AUC score: \",auc)\r\n",
        "\r\n",
        "cr = metrics.classification_report(y_true, y_pred)\r\n",
        "print(\"Classification report\")\r\n",
        "print(cr)"
      ],
      "execution_count": 17,
      "outputs": [
        {
          "output_type": "stream",
          "text": [
            "ROC-AUC score:  0.5605517899447222\n",
            "Classification report\n",
            "              precision    recall  f1-score   support\n",
            "\n",
            "           0       0.57      0.43      0.49      3600\n",
            "           1       0.56      0.69      0.62      3799\n",
            "\n",
            "    accuracy                           0.56      7399\n",
            "   macro avg       0.57      0.56      0.55      7399\n",
            "weighted avg       0.57      0.56      0.56      7399\n",
            "\n"
          ],
          "name": "stdout"
        }
      ]
    },
    {
      "cell_type": "markdown",
      "metadata": {
        "id": "8i5tv9UYqm46"
      },
      "source": [
        "*Storing predicted labels and urlids for test.tsv in csv file*"
      ]
    },
    {
      "cell_type": "code",
      "metadata": {
        "id": "2kGLC_QZO6u5"
      },
      "source": [
        "predicted_test_labels = []\r\n",
        "model.eval()\r\n",
        "with torch.no_grad():\r\n",
        "    for batch in test_iter:\r\n",
        "        input_tensor = torch.cat((batch.text,torch.transpose(batch.numerical,0,1)),dim=0)\r\n",
        "        input_tensor = F.normalize(input_tensor.double(), p=2, dim=1)\r\n",
        "        input_tensor = torch.add(input_tensor*25,25)\r\n",
        "        predictions = model(input_tensor.long()).squeeze(0)\r\n",
        "        try:\r\n",
        "            predicted,pred_ind = torch.max(F.softmax(predictions, dim=-1),1)\r\n",
        "            for j in range(BATCH_SIZE):\r\n",
        "                predicted_test_labels.append(int(pred_ind[j]))\r\n",
        "        except: # Handling last batch\r\n",
        "            predicted,pred_ind = torch.max(F.softmax(predictions.reshape((len(test_data)%BATCH_SIZE,2)), dim=-1),1)\r\n",
        "            for j in range(len(test_data)%BATCH_SIZE):\r\n",
        "                predicted_test_labels.append(int(pred_ind[j]))"
      ],
      "execution_count": 18,
      "outputs": []
    },
    {
      "cell_type": "code",
      "metadata": {
        "id": "Q9g5zCiuN-PX"
      },
      "source": [
        "# Getting urlids, parsing test.tsv again\r\n",
        "url_ids = []\r\n",
        "with open(filename_test) as tsvfile:\r\n",
        "    tsvreader = csv.reader(tsvfile, delimiter=\"\\t\")\r\n",
        "    column_names = tsvreader.__next__()\r\n",
        "    for row in tsvreader:\r\n",
        "        url_ids.append(int(row[1]))"
      ],
      "execution_count": 19,
      "outputs": []
    },
    {
      "cell_type": "code",
      "metadata": {
        "id": "CVclhSYLMhBU"
      },
      "source": [
        "submission_file = \"/content/gdrive/My Drive/Colab Notebooks/StumbleUpon Challenge/submission_file.csv\"\r\n",
        "\r\n",
        "test_submit_data = []\r\n",
        "for j in range(len(predicted_test_labels)):\r\n",
        "    test_submit_data.append([url_ids[j] , predicted_test_labels[j]])\r\n",
        "\r\n",
        "with open(submission_file,\"w\") as submit:\r\n",
        "    csvwriter=csv.writer(submit)\r\n",
        "    csvwriter.writerow(['urlid','label'])\r\n",
        "    csvwriter.writerows(test_submit_data)"
      ],
      "execution_count": 20,
      "outputs": []
    },
    {
      "cell_type": "markdown",
      "metadata": {
        "id": "G01s0eRbPhvK"
      },
      "source": [
        "**References**\r\n",
        "\r\n",
        "For the model-\r\n",
        "\r\n",
        "https://www.kaggle.com/kuldeep7688/simple-rnn-using-glove-embeddings-in-pytorch\r\n",
        "\r\n",
        "Help in adding features, errors-\r\n",
        "\r\n",
        "https://stackoverflow.com/questions/54267919/how-can-i-add-a-feature-using-torchtext\r\n",
        "\r\n",
        "https://discuss.pytorch.org/t/cuda-error-runtimeerror-cudnn-status-execution-failed/17625\r\n",
        "\r\n",
        "https://discuss.pytorch.org/t/runtimeerror-cuda-error-cublas-status-alloc-failed-when-calling-cublascreate-handle/78545/5"
      ]
    }
  ]
}